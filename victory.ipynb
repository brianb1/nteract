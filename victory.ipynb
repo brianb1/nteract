{
 "nbformat_minor": 0,
 "cells": [
  {
   "cell_type": "markdown",
   "metadata": {},
   "source": [
    "# Introducing Victory for Python!"
   ]
  },
  {
   "cell_type": "code",
   "execution_count": 4,
   "metadata": {
    "collapsed": false
   },
   "outputs": [],
   "source": [
    "import IPython\n",
    "\n",
    "def victorize(data, name='VictoryBar', **kwargs):\n",
    "  \"\"\"Plot using Victory Charts\n",
    "  \n",
    "  data -- array of data in the style Victory expects\n",
    "  name -- Victory component to use\n",
    "  \n",
    "  \"\"\"\n",
    "  bundle = {}\n",
    "  bundle['application/json+victory.v1'] = {\n",
    "  \t'data': data,\n",
    "    'name': name,\n",
    "  }\n",
    "  bundle['application/json+victory.v1'].update(kwargs)\n",
    "  \n",
    "  IPython.display.display(bundle, raw=True)"
   ]
  },
  {
   "cell_type": "code",
   "execution_count": 6,
   "metadata": {
    "collapsed": false
   },
   "outputs": [
    {
     "data": {
      "application/json+victory.v1": {
       "name": "VictoryScatter",
       "data": [
        {
         "y": 2,
         "x": 1,
         "fill": "gold"
        },
        {
         "y": 5,
         "x": 2
        },
        {
         "y": 10,
         "x": 3
        }
       ],
       "labels": [
        "a",
        "b",
        "c"
       ]
      }
     },
     "metadata": {},
     "output_type": "display_data"
    }
   ],
   "source": [
    "victorize([\n",
    "    dict(x=1, y=2, fill=\"gold\"),\n",
    "    dict(x=2, y=5),\n",
    "    dict(x=3, y=10)\n",
    "], name='VictoryScatter', labels=['a', 'b', 'c'])"
   ]
  },
  {
   "cell_type": "code",
   "execution_count": null,
   "metadata": {
    "collapsed": false
   },
   "outputs": [],
   "source": []
  }
 ],
 "metadata": {
  "kernel_info": {
   "name": "python3"
  },
  "kernelspec": {
   "name": "python3",
   "language": "python",
   "display_name": "Python 3"
  },
  "language_info": {
   "version": "3.5.2",
   "name": "python",
   "codemirror_mode": {
    "name": "ipython",
    "version": 3
   },
   "pygments_lexer": "ipython3",
   "mimetype": "text/x-python",
   "file_extension": ".py",
   "nbconvert_exporter": "python"
  }
 },
 "nbformat": 4
}