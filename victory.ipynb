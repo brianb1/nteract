{
 "nbformat_minor": 0,
 "cells": [
  {
   "cell_type": "code",
   "execution_count": 14,
   "metadata": {
    "collapsed": false
   },
   "source": [
    "def victorize(data, name='VictoryBar'):\n",
    "  \"\"\"Plot using Victory Charts\n",
    "  \n",
    "  data -- array of data in the style Victory expects\n",
    "  name -- Victory component to use\n",
    "  \n",
    "  \"\"\"\n",
    "  bundle = {}\n",
    "  bundle['application/json+victory.v1'] = {\n",
    "  \t'data': data,\n",
    "    'name': name,\n",
    "  }\n",
    "  IPython.display.display(bundle, raw=True)"
   ],
   "outputs": []
  },
  {
   "cell_type": "code",
   "execution_count": 19,
   "metadata": {
    "collapsed": false
   },
   "source": [
    "victorize([\n",
    "    dict(x=1, y=2),\n",
    "    dict(x=2, y=5),\n",
    "    dict(x=3, y=10)\n",
    "])"
   ],
   "outputs": [
    {
     "data": {
      "application/json+victory.v1": {
       "data": [
        {
         "x": 1,
         "y": 2
        },
        {
         "x": 2,
         "y": 5
        },
        {
         "x": 3,
         "y": 10
        }
       ],
       "name": "VictoryBar"
      }
     },
     "metadata": {},
     "output_type": "display_data"
    }
   ]
  },
  {
   "cell_type": "code",
   "execution_count": null,
   "metadata": {
    "collapsed": false
   },
   "source": [],
   "outputs": []
  }
 ],
 "metadata": {
  "kernel_info": {
   "name": "python3"
  },
  "kernelspec": {
   "name": "python3",
   "language": "python",
   "display_name": "Python 3"
  },
  "language_info": {
   "codemirror_mode": {
    "name": "ipython",
    "version": 3
   },
   "pygments_lexer": "ipython3",
   "file_extension": ".py",
   "name": "python",
   "version": "3.5.2",
   "mimetype": "text/x-python",
   "nbconvert_exporter": "python"
  }
 },
 "nbformat": 4
}