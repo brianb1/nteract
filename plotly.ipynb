{
 "metadata": {
  "kernelspec": {
   "name": "python3",
   "language": "python",
   "display_name": "Python 3"
  },
  "kernel_info": {
   "name": "python3"
  },
  "language_info": {
   "name": "python",
   "version": "3.5.2",
   "file_extension": ".py",
   "pygments_lexer": "ipython3",
   "nbconvert_exporter": "python",
   "mimetype": "text/x-python",
   "codemirror_mode": {
    "name": "ipython",
    "version": 3
   }
  }
 },
 "cells": [
  {
   "cell_type": "code",
   "execution_count": 1,
   "metadata": {
    "collapsed": false
   },
   "outputs": [],
   "source": [
    "import IPython\n",
    "\n",
    "def plotize(data, layout):\n",
    "  \"\"\"Plot with Plotly.js using the Plotly JSON Chart Schema\n",
    "  \n",
    "  http://help.plot.ly/json-chart-schema/\n",
    "  \"\"\"\n",
    "  bundle = {}\n",
    "  bundle['application/json+plotly.v1'] = {\n",
    "  \t'data': data,\n",
    "    'layout': layout,\n",
    "  }\n",
    "  \n",
    "  IPython.display.display(bundle, raw=True)"
   ]
  },
  {
   "cell_type": "code",
   "execution_count": 2,
   "metadata": {
    "collapsed": false
   },
   "source": [
    "data = [\n",
    "  {'x': [1999, 2000, 2001, 2002], 'y': [10, 15, 13, 17], 'type': 'scatter'},\n",
    "  {'x': [1999, 2000, 2001, 2002], 'y': [16, 5, 11, 9], 'type': 'scatter'}\n",
    "]\n",
    "\n",
    "layout = {\n",
    "  'title': 'Sales Growth',\n",
    "  'xaxis': { 'title': 'Year', 'showgrid': False, 'zeroline': False },\n",
    "  'yaxis': { 'title': 'Percent', 'showline': False }\n",
    "}"
   ],
   "outputs": []
  },
  {
   "cell_type": "code",
   "execution_count": 5,
   "metadata": {
    "collapsed": false
   },
   "source": [
    "plotize(data, layout)"
   ],
   "outputs": [
    {
     "metadata": {},
     "data": {
      "application/json+plotly.v1": {
       "layout": {
        "xaxis": {
         "showgrid": false,
         "zeroline": false,
         "title": "Year"
        },
        "title": "Sales Growth",
        "yaxis": {
         "showline": false,
         "title": "Percent"
        }
       },
       "data": [
        {
         "x": [
          1999,
          2000,
          2001,
          2002
         ],
         "type": "scatter",
         "y": [
          10,
          15,
          13,
          17
         ]
        },
        {
         "x": [
          1999,
          2000,
          2001,
          2002
         ],
         "type": "scatter",
         "y": [
          16,
          5,
          11,
          9
         ]
        }
       ]
      }
     },
     "output_type": "display_data"
    }
   ]
  },
  {
   "cell_type": "code",
   "execution_count": null,
   "metadata": {
    "collapsed": false
   },
   "source": [],
   "outputs": []
  }
 ],
 "nbformat": 4,
 "nbformat_minor": 0
}